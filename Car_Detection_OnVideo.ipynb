{
 "cells": [
  {
   "cell_type": "code",
   "execution_count": 1,
   "id": "1ae0654c",
   "metadata": {},
   "outputs": [],
   "source": [
    "import numpy as np\n",
    "import time\n",
    "import cv2\n",
    "import os\n",
    "import glob\n",
    "import matplotlib.pyplot as plt\n",
    "import sys"
   ]
  },
  {
   "cell_type": "code",
   "execution_count": 2,
   "id": "88ecc2f9",
   "metadata": {},
   "outputs": [],
   "source": [
    "weights_path = os.path.join(\"yolo\",\"yolov3.weights\")\n",
    "config_path = os.path.join(\"yolo\",\"yolov3.cfg\")"
   ]
  },
  {
   "cell_type": "code",
   "execution_count": 3,
   "id": "b1088352",
   "metadata": {},
   "outputs": [],
   "source": [
    "net = cv2.dnn.readNetFromDarknet(config_path,weights_path)"
   ]
  },
  {
   "cell_type": "code",
   "execution_count": 4,
   "id": "26d6b52b",
   "metadata": {},
   "outputs": [],
   "source": [
    "names = net.getLayerNames()"
   ]
  },
  {
   "cell_type": "code",
   "execution_count": 5,
   "id": "5b1937bd",
   "metadata": {},
   "outputs": [],
   "source": [
    "layers_names = [names[i - 1] for i in net.getUnconnectedOutLayers()]\n"
   ]
  },
  {
   "cell_type": "code",
   "execution_count": 6,
   "id": "4ab5d3f0",
   "metadata": {},
   "outputs": [],
   "source": [
    "def process_image(img):\n",
    "    (H, W) = img.shape[:2]\n",
    "    layers_names = [names[i - 1] for i in net.getUnconnectedOutLayers()]\n",
    "    blob = cv2.dnn.blobFromImage(img, 1/255.0, (416,416), crop=False, swapRB=False)\n",
    "    net.setInput(blob)\n",
    "    layers_output = net.forward(layers_names)\n",
    "    \n",
    "    boxes = []\n",
    "    confidences = []\n",
    "    classIDs =[]\n",
    "    \n",
    "    for output in layers_output:\n",
    "        for detection in output:\n",
    "            scores = detection[5:]\n",
    "            classID = np.argmax(scores)\n",
    "            confidence = scores[classID]\n",
    "\n",
    "            if(confidence > 0.85):\n",
    "                box = detection[:4] * np.array([W, H, W, H])\n",
    "                bx, by, bw, bh = box.astype(\"int\")\n",
    "\n",
    "                x = int(bx - (bw / 2))\n",
    "                y = int(by - (bh / 2))\n",
    "\n",
    "                boxes.append([x, y, int(bw), int(bh)])\n",
    "                confidences.append(float(confidence))\n",
    "                classIDs.append(classID)\n",
    "                \n",
    "    idx = cv2.dnn.NMSBoxes(boxes, confidences, 0.8, 0.8)\n",
    "    \n",
    "    labels_path = os.path.join(\"yolo\", \"coco.names\")\n",
    "    labels = open(labels_path).read().strip().split(\"\\n\")\n",
    "\n",
    "    for i in idx.flatten():\n",
    "        (x, y) = [boxes[i][0], boxes[i][1]]\n",
    "        (w, h) = [boxes[i][2], boxes[i][3]]\n",
    "\n",
    "        cv2.rectangle(img, (x,y), (x+w, y+h), (0,255,0), 2)\n",
    "        cv2.putText(img, \"{}: {}\".format(labels[classIDs[i]], confidences[i]), (x, y-5), cv2.FONT_HERSHEY_SIMPLEX,\\\n",
    "                   0.5, (255,0,0), 2)\n",
    "    return img"
   ]
  },
  {
   "cell_type": "code",
   "execution_count": 7,
   "id": "9663c89c",
   "metadata": {},
   "outputs": [
    {
     "name": "stdout",
     "output_type": "stream",
     "text": [
      "['c:\\\\users\\\\hp\\\\miniconda3\\\\lib\\\\site-packages\\\\ipykernel_launcher.py', '-f', 'C:\\\\Users\\\\hp\\\\AppData\\\\Roaming\\\\jupyter\\\\runtime\\\\kernel-dc1ce893-ae5d-40a2-8ca7-71edcd3cbffb.json']\n",
      "The video was successfully saved\n"
     ]
    }
   ],
   "source": [
    "print(sys.argv)\n",
    "\n",
    "cap = cv2.VideoCapture(\"test_video.mp4\")\n",
    "width= int(cap.get(cv2.CAP_PROP_FRAME_WIDTH))\n",
    "height= int(cap.get(cv2.CAP_PROP_FRAME_HEIGHT))\n",
    "video_cod = cv2.VideoWriter_fourcc(*'DIVX')\n",
    "video_output= cv2.VideoWriter('output_video.mp4',\n",
    "                      video_cod, 20,\n",
    "                      (width,height))\n",
    "while(cap.isOpened()):\n",
    "    _, frame = cap.read()\n",
    "\n",
    "    processed_frame = process_image(frame)\n",
    "\n",
    "    video_output.write(processed_frame)\n",
    "\n",
    "    cv2.imshow('frame',processed_frame)\n",
    "\n",
    "    if cv2.waitKey(25) & 0xFF == ord('q'):\n",
    "        break\n",
    "\n",
    "# When everything done, release\n",
    "# the video capture object\n",
    "cap.release()\n",
    "\n",
    "# Closes all the frames\n",
    "cv2.destroyAllWindows()\n",
    "\n",
    "print(\"The video was successfully saved\")\n"
   ]
  },
  {
   "cell_type": "code",
   "execution_count": null,
   "id": "bff5a5fd",
   "metadata": {},
   "outputs": [],
   "source": []
  }
 ],
 "metadata": {
  "kernelspec": {
   "display_name": "Python 3 (ipykernel)",
   "language": "python",
   "name": "python3"
  },
  "language_info": {
   "codemirror_mode": {
    "name": "ipython",
    "version": 3
   },
   "file_extension": ".py",
   "mimetype": "text/x-python",
   "name": "python",
   "nbconvert_exporter": "python",
   "pygments_lexer": "ipython3",
   "version": "3.9.5"
  }
 },
 "nbformat": 4,
 "nbformat_minor": 5
}
